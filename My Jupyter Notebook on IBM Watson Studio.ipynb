{
  "metadata": {
    "language_info": {
      "codemirror_mode": {
        "name": "python",
        "version": 3
      },
      "file_extension": ".py",
      "mimetype": "text/x-python",
      "name": "python",
      "nbconvert_exporter": "python",
      "pygments_lexer": "ipython3",
      "version": "3.8"
    },
    "kernelspec": {
      "name": "python",
      "display_name": "Pyolite",
      "language": "python"
    }
  },
  "nbformat_minor": 4,
  "nbformat": 4,
  "cells": [
    {
      "cell_type": "markdown",
      "source": "# My Jupyter Notebook on IBM Watson Studio",
      "metadata": {}
    },
    {
      "cell_type": "markdown",
      "source": "<b>Evangelos Tsamilis</b>\\\nStudent",
      "metadata": {}
    },
    {
      "cell_type": "markdown",
      "source": "*I am interested in Data Science because it is constantly developing field with various different application in real life. Also, Data Science provides a lot of different paths one can take.*",
      "metadata": {}
    },
    {
      "cell_type": "markdown",
      "source": "### The code in the cell below prints the sting \"I love Data Science\"",
      "metadata": {}
    },
    {
      "cell_type": "code",
      "source": "print(\"I love Data Science\")",
      "metadata": {
        "trusted": true
      },
      "execution_count": 8,
      "outputs": [
        {
          "name": "stdout",
          "text": "I love Data Science\n",
          "output_type": "stream"
        }
      ]
    },
    {
      "cell_type": "markdown",
      "source": "| Column 1 | Column 2 | Column 3 |\n| ------ | ------ | ------ |\n| cell 1 | cell 2| cell 3|\n| cell 4| cell 5| cell 6|\n\n***\n\n- item 1\n- item 2\n- item 3\n- item 4\n\n***\nClick the link below to get transfer\n\n__[coursera IBM Data Science](https://www.coursera.org/?skipBrowseRedirect=true)__\n\n",
      "metadata": {}
    },
    {
      "cell_type": "code",
      "source": "",
      "metadata": {},
      "execution_count": null,
      "outputs": []
    }
  ]
}